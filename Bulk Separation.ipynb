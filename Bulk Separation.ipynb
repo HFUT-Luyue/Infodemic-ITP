{
 "cells": [
  {
   "cell_type": "code",
   "execution_count": 1,
   "id": "1df6e72e",
   "metadata": {},
   "outputs": [],
   "source": [
    "import sys\n",
    "import os\n",
    "import json\n",
    "import math\n",
    "import pandas as pd\n",
    "import datetime"
   ]
  },
  {
   "cell_type": "code",
   "execution_count": null,
   "id": "fac5ba6e",
   "metadata": {},
   "outputs": [],
   "source": [
    "import os\n",
    "import json\n",
    "import datetime\n",
    "# Read each file, for each retweet, read retweet timestamp, put into proper date, (100 tweets per file)\n",
    "input_dir = \"Dataset Original/\"\n",
    "output_dir = \"/*\"\n",
    "overall_dict = {}\n",
    "def converttimestamp(timestamp_string):\n",
    "    obj = datetime.datetime.strptime(timestamp_string, '%a %b %d %H:%M:%S %z %Y')\n",
    "    return obj\n",
    "\n",
    "def calc_timedelta(ts1):\n",
    "    ts1_obj = converttimestamp(ts1)\n",
    "    ts2_obj = datetime.datetime.strptime(\"2019-10-01\", '%Y-%m-%d')\n",
    "    return (ts1_obj - ts2_obj).days\n",
    "\n",
    "for each_file in os.listdir(input_dir):\n",
    "    with open(os.path.join(input_dir, each_file), 'r') as f:\n",
    "        content = json.load(f)\n",
    "        for each in content:\n",
    "            timestamp = each[0][\"created_at\"]\n",
    "            date = str(converttimestamp(timestamp).date())\n",
    "            #date_delta = calc_timedelta(converttimestamp(timestamp))\n",
    "            try:\n",
    "                overall_dict[date].append(each)\n",
    "            except Exception as e:\n",
    "                overall_dict[date] = [each]\n",
    "            if len(overall_dict[date]) == 100:\n",
    "                #For each 100 tweets, pull them out.\n",
    "                #Need a way\n",
    "                output_sub_dir = os.path.join(output_dir, date)\n",
    "                os.makedirs(output_sub_dir, exist_ok = True)\n",
    "                file_no = len(os.listdir(output_sub_dir)) + 1\n",
    "                file_name = \"geo_\" + date + \"_\" + str(file_no) + \".json\"\n",
    "                output_file_name = os.path.join(output_sub_dir, file_name)\n",
    "                with open(output_file_name, 'w', encoding = 'utf-8') as w:\n",
    "                    json.dump(overall_dict[date], w, indent = 2)\n",
    "                    overall_dict[date] = []\n",
    "                    w.close()"
   ]
  }
 ],
 "metadata": {
  "kernelspec": {
   "display_name": "Python 3 (ipykernel)",
   "language": "python",
   "name": "python3"
  },
  "language_info": {
   "codemirror_mode": {
    "name": "ipython",
    "version": 3
   },
   "file_extension": ".py",
   "mimetype": "text/x-python",
   "name": "python",
   "nbconvert_exporter": "python",
   "pygments_lexer": "ipython3",
   "version": "3.9.13"
  }
 },
 "nbformat": 4,
 "nbformat_minor": 5
}
