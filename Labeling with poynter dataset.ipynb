{
 "cells": [
  {
   "cell_type": "code",
   "execution_count": null,
   "id": "b0221d96-dfcb-4dba-949a-68fc1de184ae",
   "metadata": {},
   "outputs": [],
   "source": [
    "import os\n",
    "from runtimex import Extraction_summary_of_keyword\n",
    "os.environ[\"TOKENIZERS_PARALLELISM\"] = \"true\"\n",
    "import torch.multiprocessing as multiprocessing\n",
    "if multiprocessing.get_start_method() == 'fork':\n",
    "    multiprocessing.set_start_method('spawn', force=True)\n",
    "corpus_main = \"*\"\n",
    "process_list = []\n",
    "device_num = 0\n",
    "for each_keyword in os.listdir(corpus_main):\n",
    "    p = multiprocessing.Process(target=Extraction_summary_of_keyword, args=(each_keyword, device_num))\n",
    "    device_num += 1\n",
    "    if device_num >= 8:\n",
    "        device_num = 0\n",
    "    process_list.append(p)\n",
    "\n",
    "for p in process_list:\n",
    "    p.start()\n",
    "for p in process_list:\n",
    "    p.join()"
   ]
  },
  {
   "cell_type": "code",
   "execution_count": null,
   "id": "bc7eeeb8-8830-4c45-9481-ca22df43351e",
   "metadata": {},
   "outputs": [],
   "source": [
    "import os\n",
    "import pickle\n",
    "#import tomotopy as tp\n",
    "import pandas as pd\n",
    "from dateutil import parser\n",
    "from langdetect import detect, DetectorFactory\n",
    "import ast"
   ]
  },
  {
   "cell_type": "code",
   "execution_count": null,
   "id": "0aef57e5-9359-4cfd-8e20-849bc33211fe",
   "metadata": {},
   "outputs": [],
   "source": [
    "import runtimex\n",
    "import importlib\n",
    "importlib.reload(runtimex)"
   ]
  },
  {
   "cell_type": "code",
   "execution_count": null,
   "id": "6d18fe3a-e6b2-4d6f-ba18-36de1c874c07",
   "metadata": {},
   "outputs": [],
   "source": []
  }
 ],
 "metadata": {
  "kernelspec": {
   "display_name": "Python 3 (ipykernel)",
   "language": "python",
   "name": "python3"
  },
  "language_info": {
   "codemirror_mode": {
    "name": "ipython",
    "version": 3
   },
   "file_extension": ".py",
   "mimetype": "text/x-python",
   "name": "python",
   "nbconvert_exporter": "python",
   "pygments_lexer": "ipython3",
   "version": "3.9.18"
  }
 },
 "nbformat": 4,
 "nbformat_minor": 5
}
