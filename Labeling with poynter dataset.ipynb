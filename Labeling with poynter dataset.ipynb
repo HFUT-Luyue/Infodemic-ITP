{
 "cells": [
  {
   "cell_type": "code",
   "execution_count": null,
   "id": "06eecfd4-657c-4f34-a4b0-62066fc31d1e",
   "metadata": {},
   "outputs": [],
   "source": [
    "import os\n",
    "import pickle\n",
    "#import tomotopy as tp\n",
    "import pandas as pd\n",
    "from dateutil import parser\n",
    "from langdetect import detect, DetectorFactory\n",
    "import ast"
   ]
  },
  {
   "cell_type": "code",
   "execution_count": null,
   "id": "9199c3da-ac1b-44eb-9f14-09033c8e7e33",
   "metadata": {},
   "outputs": [],
   "source": [
    "import runtimex\n",
    "import importlib\n",
    "importlib.reload(runtimex)"
   ]
  },
  {
   "cell_type": "code",
   "execution_count": null,
   "id": "7fc04f56-d43d-4308-8839-876de31e6334",
   "metadata": {},
   "outputs": [],
   "source": [
    "article_list = []\n",
    "with open(\"poynter_crawl_overall_list.pkl\", \"rb\") as f:\n",
    "    article_list = pickle.load(f)\n",
    "with open(\"poynter_crawl_overall_list_2.pkl\", \"rb\") as f:\n",
    "    article_list_2 = pickle.load(f)\n",
    "article_list.extend(article_list_2)\n",
    "print(\"There are \" + str(len(article_list)) + \" articles in the database\")\n"
   ]
  },
  {
   "cell_type": "code",
   "execution_count": null,
   "id": "c556555a-35be-462f-a96c-89d33b4938b9",
   "metadata": {},
   "outputs": [],
   "source": [
    "#We examine the publish date of the articles, removing those from after March. 25th, 2020\n",
    "new_article_list = []\n",
    "for each_article in article_list:\n",
    "    publish_date_str = each_article[1]\n",
    "    #print(publish_date)\n",
    "    try:\n",
    "        publish_date = parser.parse(publish_date_str)\n",
    "        if publish_date.replace(tzinfo=None) < parser.parse(\"2020-03-26 00:00:00+00:00\").replace(tzinfo=None):\n",
    "            new_article_list.append(each_article)\n",
    "    except Exception as e:\n",
    "        #If there is no date we have to include it.\n",
    "        #print(e)\n",
    "        new_article_list.append(each_article)\n",
    "print(\"There are now \" + str(len(new_article_list)) + \" articles published before 2020-03-26.\")"
   ]
  },
  {
   "cell_type": "code",
   "execution_count": null,
   "id": "c01e7069-adb5-4703-80d5-03e50ca6751d",
   "metadata": {},
   "outputs": [],
   "source": [
    "DetectorFactory.seed = 0\n",
    "english_list = []\n",
    "for each_article in new_article_list:\n",
    "    if each_article != '':\n",
    "        try:\n",
    "            if detect(each_article[4][0]) == 'en':\n",
    "                english_list.append(each_article)\n",
    "        except Exception as e:\n",
    "            pass\n",
    "\n",
    "print(\"There are \" + str(len(english_list)) + \" english articles in database.\")"
   ]
  },
  {
   "cell_type": "code",
   "execution_count": null,
   "id": "3ae2aeed-cc63-488a-91fe-1ace95248448",
   "metadata": {},
   "outputs": [],
   "source": [
    "os.environ[\"TOKENIZERS_PARALLELISM\"] = \"true\"\n",
    "import torch.multiprocessing as multiprocessing\n",
    "if multiprocessing.get_start_method() == 'fork':\n",
    "    multiprocessing.set_start_method('spawn', force=True)\n",
    "process_list = []\n",
    "device_num = 0\n",
    "corpus_main = \"/\"\n",
    "for each_keyword in os.listdir(corpus_main):\n",
    "    p = multiprocessing.Process(target=runtimex.Extraction_comparison_of_keyword, args=(each_keyword, device_num, english_list))\n",
    "    device_num += 1\n",
    "    if device_num >= 8:\n",
    "        device_num = 0\n",
    "    process_list.append(p)\n",
    "\n",
    "for p in process_list:\n",
    "    p.start()\n",
    "for p in process_list:\n",
    "    p.join()"
   ]
  },
  {
   "cell_type": "code",
   "execution_count": null,
   "id": "cac213ed-822d-4b42-901d-2a26fa0b4343",
   "metadata": {
    "scrolled": true
   },
   "outputs": [],
   "source": [
    "os.environ[\"TOKENIZERS_PARALLELISM\"] = \"true\"\n",
    "import torch.multiprocessing as multiprocessing\n",
    "if multiprocessing.get_start_method() == 'fork':\n",
    "    multiprocessing.set_start_method('spawn', force=True)\n",
    "process_list = []\n",
    "device_num = 0\n",
    "corpus_main = \"/\"\n",
    "for each_keyword in os.listdir(corpus_main):\n",
    "    p = multiprocessing.Process(target=runtimex.Dup_removal, args=(each_keyword,))\n",
    "    device_num += 1\n",
    "    if device_num >= 8:\n",
    "        device_num = 0\n",
    "    process_list.append(p)\n",
    "\n",
    "for p in process_list:\n",
    "    p.start()\n",
    "for p in process_list:\n",
    "    p.join()"
   ]
  },
  {
   "cell_type": "code",
   "execution_count": null,
   "id": "c0a4970a-ea9f-4dd5-acf0-982c4ab4db29",
   "metadata": {
    "scrolled": true
   },
   "outputs": [],
   "source": [
    "os.environ[\"TOKENIZERS_PARALLELISM\"] = \"true\"\n",
    "import torch.multiprocessing as multiprocessing\n",
    "if multiprocessing.get_start_method() == 'fork':\n",
    "    multiprocessing.set_start_method('spawn', force=True)\n",
    "process_list = []\n",
    "device_num = 0\n",
    "corpus_main = \"/\"\n",
    "for each_keyword in os.listdir(corpus_main):\n",
    "    p = multiprocessing.Process(target=runtimex.Comparison_analysis, args=(each_keyword,))\n",
    "    device_num += 1\n",
    "    if device_num >= 8:\n",
    "        device_num = 0\n",
    "    process_list.append(p)\n",
    "\n",
    "for p in process_list:\n",
    "    p.start()\n",
    "for p in process_list:\n",
    "    p.join()\n"
   ]
  },
  {
   "cell_type": "code",
   "execution_count": null,
   "id": "d9629d23-5662-413e-9782-37ef63f8e774",
   "metadata": {},
   "outputs": [],
   "source": [
    "overall_similarity = list(df[\"6\"])\n",
    "thresholds = [0.65, 0.6, 0.55, 0.5, 0.45, 0.4, 0.35, 0.3]\n",
    "for threshold in thresholds:\n",
    "    count = sum(1 for number in overall_similarity if number > threshold)\n",
    "    print(f'Numbers greater than {threshold}: {count}')"
   ]
  },
  {
   "cell_type": "code",
   "execution_count": null,
   "id": "ef446750-da2d-45db-ae00-d410b49a9323",
   "metadata": {},
   "outputs": [],
   "source": [
    "stat_dir = \"/\"\n",
    "combined_df = pd.DataFrame()\n",
    "for keyword in os.listdir(stat_dir):\n",
    "    keyword_dir = os.path.join(stat_dir, keyword)\n",
    "    file_name = keyword_dir + \"/output_allthreshold.csv\"\n",
    "    current_df = pd.read_csv(file_name)\n",
    "    combined_df = pd.concat([combined_df, current_df], ignore_index=True)"
   ]
  },
  {
   "cell_type": "code",
   "execution_count": null,
   "id": "3aa3f3d8-24b3-4984-b493-517caa2c0f3f",
   "metadata": {},
   "outputs": [],
   "source": [
    "combined_df"
   ]
  },
  {
   "cell_type": "code",
   "execution_count": null,
   "id": "4af671fe-eda5-4116-9f2c-35be3e660c0d",
   "metadata": {},
   "outputs": [],
   "source": [
    "combined_df.to_csv(\"Comparison_Combined_Dataframe_all_threshold.csv\")"
   ]
  }
 ],
 "metadata": {
  "kernelspec": {
   "display_name": "Python 3 (ipykernel)",
   "language": "python",
   "name": "python3"
  },
  "language_info": {
   "codemirror_mode": {
    "name": "ipython",
    "version": 3
   },
   "file_extension": ".py",
   "mimetype": "text/x-python",
   "name": "python",
   "nbconvert_exporter": "python",
   "pygments_lexer": "ipython3",
   "version": "3.9.18"
  }
 },
 "nbformat": 4,
 "nbformat_minor": 5
}
